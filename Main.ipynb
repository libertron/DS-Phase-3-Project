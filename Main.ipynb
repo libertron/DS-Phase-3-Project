{
 "cells": [
  {
   "cell_type": "markdown",
   "metadata": {
    "nbgrader": {
     "grade": false,
     "grade_id": "cell-45225d96ef8db436",
     "locked": true,
     "schema_version": 3,
     "solution": false,
     "task": false
    }
   },
   "source": [
    "# Churn in Syria Telecommunication Company\n",
    "\n",
    "We are going to perform a predictive analysis for a telecommunication company in order to provide solid insights for potential future churn.\n",
    "\n",
    "Specifically, this will cover:\n",
    "\n",
    "* Performing a train-test split to evaluate model performance on unseen data\n",
    "* Applying appropriate preprocessing steps to training and test data\n",
    "* Identifying overfitting and underfitting"
   ]
  },
  {
   "cell_type": "markdown",
   "metadata": {
    "nbgrader": {
     "grade": false,
     "grade_id": "cell-80e2de554ec6f219",
     "locked": true,
     "schema_version": 3,
     "solution": false,
     "task": false
    }
   },
   "source": [
    "### Data Understanding\n",
    "\n",
    "I will be using the Churn in Telecom's dataset, modeling the `churn` based on all other numeric features of the dataset. ([dataset here](https://www.kaggle.com/datasets/becksddf/churn-in-telecoms-dataset/data))"
   ]
  },
  {
   "cell_type": "markdown",
   "metadata": {},
   "source": [
    "#### Let's import libaries"
   ]
  },
  {
   "cell_type": "code",
   "execution_count": 1,
   "metadata": {},
   "outputs": [],
   "source": [
    "import pandas as pd\n",
    "import numpy as np\n",
    "import matplotlib.pyplot as plt\n",
    "import seaborn as sns\n",
    "\n",
    "from sklearn.preprocessing import OneHotEncoder\n",
    "from sklearn.model_selection import train_test_split, GridSearchCV\n",
    "from sklearn.preprocessing import StandardScaler\n",
    "from sklearn.linear_model import LogisticRegression\n",
    "from sklearn.tree import DecisionTreeClassifier\n",
    "from sklearn.metrics import (\n",
    "    classification_report,\n",
    "    confusion_matrix,\n",
    "    ConfusionMatrixDisplay,\n",
    "    roc_auc_score,\n",
    "    RocCurveDisplay,\n",
    "    accuracy_score\n",
    ")"
   ]
  },
  {
   "cell_type": "markdown",
   "metadata": {},
   "source": [
    "#### Quick EDA"
   ]
  },
  {
   "cell_type": "code",
   "execution_count": 2,
   "metadata": {},
   "outputs": [
    {
     "name": "stdout",
     "output_type": "stream",
     "text": [
      "       account length  area code phone number international plan  \\\n",
      "state                                                              \n",
      "KS                128        415     382-4657                 no   \n",
      "OH                107        415     371-7191                 no   \n",
      "NJ                137        415     358-1921                 no   \n",
      "OH                 84        408     375-9999                yes   \n",
      "OK                 75        415     330-6626                yes   \n",
      "\n",
      "      voice mail plan  number vmail messages  total day minutes  \\\n",
      "state                                                             \n",
      "KS                yes                     25              265.1   \n",
      "OH                yes                     26              161.6   \n",
      "NJ                 no                      0              243.4   \n",
      "OH                 no                      0              299.4   \n",
      "OK                 no                      0              166.7   \n",
      "\n",
      "       total day calls  total day charge  total eve minutes  total eve calls  \\\n",
      "state                                                                          \n",
      "KS                 110             45.07              197.4               99   \n",
      "OH                 123             27.47              195.5              103   \n",
      "NJ                 114             41.38              121.2              110   \n",
      "OH                  71             50.90               61.9               88   \n",
      "OK                 113             28.34              148.3              122   \n",
      "\n",
      "       total eve charge  total night minutes  total night calls  \\\n",
      "state                                                             \n",
      "KS                16.78                244.7                 91   \n",
      "OH                16.62                254.4                103   \n",
      "NJ                10.30                162.6                104   \n",
      "OH                 5.26                196.9                 89   \n",
      "OK                12.61                186.9                121   \n",
      "\n",
      "       total night charge  total intl minutes  total intl calls  \\\n",
      "state                                                             \n",
      "KS                  11.01                10.0                 3   \n",
      "OH                  11.45                13.7                 3   \n",
      "NJ                   7.32                12.2                 5   \n",
      "OH                   8.86                 6.6                 7   \n",
      "OK                   8.41                10.1                 3   \n",
      "\n",
      "       total intl charge  customer service calls  churn  \n",
      "state                                                    \n",
      "KS                  2.70                       1  False  \n",
      "OH                  3.70                       1  False  \n",
      "NJ                  3.29                       0  False  \n",
      "OH                  1.78                       2  False  \n",
      "OK                  2.73                       3  False  \n"
     ]
    }
   ],
   "source": [
    "# Load dataset\n",
    "df = pd.read_csv(\"Data/churn_dataset.csv\", index_col=0)\n",
    "# Preview\n",
    "print(df.head())"
   ]
  },
  {
   "cell_type": "code",
   "execution_count": 3,
   "metadata": {},
   "outputs": [
    {
     "name": "stdout",
     "output_type": "stream",
     "text": [
      "<class 'pandas.core.frame.DataFrame'>\n",
      "Index: 3333 entries, KS to TN\n",
      "Data columns (total 20 columns):\n",
      " #   Column                  Non-Null Count  Dtype  \n",
      "---  ------                  --------------  -----  \n",
      " 0   account length          3333 non-null   int64  \n",
      " 1   area code               3333 non-null   int64  \n",
      " 2   phone number            3333 non-null   object \n",
      " 3   international plan      3333 non-null   object \n",
      " 4   voice mail plan         3333 non-null   object \n",
      " 5   number vmail messages   3333 non-null   int64  \n",
      " 6   total day minutes       3333 non-null   float64\n",
      " 7   total day calls         3333 non-null   int64  \n",
      " 8   total day charge        3333 non-null   float64\n",
      " 9   total eve minutes       3333 non-null   float64\n",
      " 10  total eve calls         3333 non-null   int64  \n",
      " 11  total eve charge        3333 non-null   float64\n",
      " 12  total night minutes     3333 non-null   float64\n",
      " 13  total night calls       3333 non-null   int64  \n",
      " 14  total night charge      3333 non-null   float64\n",
      " 15  total intl minutes      3333 non-null   float64\n",
      " 16  total intl calls        3333 non-null   int64  \n",
      " 17  total intl charge       3333 non-null   float64\n",
      " 18  customer service calls  3333 non-null   int64  \n",
      " 19  churn                   3333 non-null   bool   \n",
      "dtypes: bool(1), float64(8), int64(8), object(3)\n",
      "memory usage: 524.0+ KB\n",
      "None\n"
     ]
    }
   ],
   "source": [
    "print(df.info())"
   ]
  },
  {
   "cell_type": "code",
   "execution_count": 4,
   "metadata": {
    "nbgrader": {
     "grade": false,
     "grade_id": "cell-0eab44802b65ea1c",
     "locked": true,
     "schema_version": 3,
     "solution": false,
     "task": false
    }
   },
   "outputs": [
    {
     "name": "stdout",
     "output_type": "stream",
     "text": [
      "churn\n",
      "0    2850\n",
      "1     483\n",
      "Name: count, dtype: int64\n"
     ]
    }
   ],
   "source": [
    "# Ensure churn is numeric\n",
    "df['churn'] = df['churn'].map({True:1, False:0})\n",
    "print(df['churn'].value_counts())"
   ]
  },
  {
   "cell_type": "code",
   "execution_count": 5,
   "metadata": {},
   "outputs": [
    {
     "name": "stdout",
     "output_type": "stream",
     "text": [
      "Missing values per column:\n",
      "account length            0\n",
      "area code                 0\n",
      "phone number              0\n",
      "international plan        0\n",
      "voice mail plan           0\n",
      "number vmail messages     0\n",
      "total day minutes         0\n",
      "total day calls           0\n",
      "total day charge          0\n",
      "total eve minutes         0\n",
      "total eve calls           0\n",
      "total eve charge          0\n",
      "total night minutes       0\n",
      "total night calls         0\n",
      "total night charge        0\n",
      "total intl minutes        0\n",
      "total intl calls          0\n",
      "total intl charge         0\n",
      "customer service calls    0\n",
      "churn                     0\n",
      "dtype: int64\n"
     ]
    }
   ],
   "source": [
    "# --- Missing values check ---\n",
    "print(\"Missing values per column:\")\n",
    "print(df.isnull().sum())"
   ]
  },
  {
   "cell_type": "code",
   "execution_count": 6,
   "metadata": {},
   "outputs": [
    {
     "name": "stdout",
     "output_type": "stream",
     "text": [
      "\n",
      "Percentage of missing values:\n",
      "account length            0.0\n",
      "area code                 0.0\n",
      "phone number              0.0\n",
      "international plan        0.0\n",
      "voice mail plan           0.0\n",
      "number vmail messages     0.0\n",
      "total day minutes         0.0\n",
      "total day calls           0.0\n",
      "total day charge          0.0\n",
      "total eve minutes         0.0\n",
      "total eve calls           0.0\n",
      "total eve charge          0.0\n",
      "total night minutes       0.0\n",
      "total night calls         0.0\n",
      "total night charge        0.0\n",
      "total intl minutes        0.0\n",
      "total intl calls          0.0\n",
      "total intl charge         0.0\n",
      "customer service calls    0.0\n",
      "churn                     0.0\n",
      "dtype: float64\n"
     ]
    }
   ],
   "source": [
    "print(\"\\nPercentage of missing values:\")\n",
    "print((df.isnull().mean() * 100).round(2))"
   ]
  },
  {
   "cell_type": "markdown",
   "metadata": {},
   "source": [
    "##### Since we have no missing values, we can follow with the modeling step"
   ]
  },
  {
   "cell_type": "markdown",
   "metadata": {
    "nbgrader": {
     "grade": false,
     "grade_id": "cell-927990ad603957cb",
     "locked": true,
     "schema_version": 3,
     "solution": false,
     "task": false
    }
   },
   "source": [
    "### Modeling\n",
    "\n",
    "For the current matter I will build **two models** : \n",
    "1) A Logistic regression as the baseline model.\n",
    "2) A Decision tree model as the second one, more complexe and finally tune it for more improvement.\n",
    "\n",
    "For this reason I will first perform a **train-test split**, so that I am fitting the model using the training dataset and evaluating the model using the testing dataset.\n",
    "\n",
    "\n",
    "### Requirements\n",
    "\n",
    "#### 1. Perform a Train-Test Split\n",
    "\n",
    "#### 2. Fit a `Logistic regression` Model\n",
    "\n",
    "#### 3. Fit a `Decision tree` Model\n",
    "\n",
    "#### 4. Fit a `Decision tree Tuned` Model ( Improve the previous model )\n",
    "\n",
    "#### 5. Compare the models\n",
    "\n",
    "#### 6. Determine feature importance"
   ]
  },
  {
   "cell_type": "markdown",
   "metadata": {
    "nbgrader": {
     "grade": false,
     "grade_id": "cell-c5667f384accd25f",
     "locked": true,
     "schema_version": 3,
     "solution": false,
     "task": false
    }
   },
   "source": [
    "## 1. Train-Test Split\n",
    "\n",
    "The target is `churn`, let's split the dataset into endog (X) and exog (y). 20% of the data will be used for test (80% in the trai set)"
   ]
  },
  {
   "cell_type": "code",
   "execution_count": 7,
   "metadata": {
    "nbgrader": {
     "grade": false,
     "grade_id": "cell-f4893c1f1208ec61",
     "locked": false,
     "schema_version": 3,
     "solution": true,
     "task": false
    }
   },
   "outputs": [],
   "source": [
    "# Separate features and target\n",
    "X = df.drop(\"churn\", axis=1)\n",
    "y = df[\"churn\"]\n",
    "\n",
    "# One-hot encode categorical features\n",
    "X = pd.get_dummies(X, drop_first=True)\n",
    "\n",
    "# Train-test split with stratification (keeps class balance)\n",
    "X_train, X_test, y_train, y_test = train_test_split(\n",
    "    X, y, test_size=0.2, random_state=42, stratify=y\n",
    ")\n",
    "\n",
    "# Scale only numeric columns (not the one-hot encoded dummies)\n",
    "numeric_cols = X.select_dtypes(include=np.number).columns\n",
    "scaler = StandardScaler()\n",
    "\n",
    "X_train[numeric_cols] = scaler.fit_transform(X_train[numeric_cols])\n",
    "X_test[numeric_cols] = scaler.transform(X_test[numeric_cols])"
   ]
  },
  {
   "cell_type": "markdown",
   "metadata": {},
   "source": [
    "# 2. Fit a Logistic Regresssion Model\n",
    "\n",
    "This is our baseline model. We will use StandardScaler class to scale sets data"
   ]
  },
  {
   "cell_type": "code",
   "execution_count": 8,
   "metadata": {},
   "outputs": [
    {
     "name": "stdout",
     "output_type": "stream",
     "text": [
      "Logistic Regression Results\n",
      "              precision    recall  f1-score   support\n",
      "\n",
      "           0       0.93      0.71      0.80       570\n",
      "           1       0.28      0.67      0.40        97\n",
      "\n",
      "    accuracy                           0.70       667\n",
      "   macro avg       0.60      0.69      0.60       667\n",
      "weighted avg       0.83      0.70      0.74       667\n",
      "\n"
     ]
    }
   ],
   "source": [
    "# Scale numeric features\n",
    "scaler = StandardScaler()\n",
    "X_train_scaled = scaler.fit_transform(X_train.select_dtypes(include=np.number))\n",
    "X_test_scaled = scaler.transform(X_test.select_dtypes(include=np.number))\n",
    "\n",
    "log_reg = LogisticRegression(max_iter=1000, class_weight=\"balanced\")\n",
    "log_reg.fit(X_train_scaled, y_train)\n",
    "\n",
    "y_pred_log = log_reg.predict(X_test_scaled)\n",
    "y_prob_log = log_reg.predict_proba(X_test_scaled)[:,1]\n",
    "\n",
    "print(\"Logistic Regression Results\")\n",
    "print(classification_report(y_test, y_pred_log))"
   ]
  },
  {
   "cell_type": "markdown",
   "metadata": {},
   "source": [
    "##### Plot\n",
    "Let's plot a confusion matrix for a better obeservation of TP FP FN TN"
   ]
  },
  {
   "cell_type": "code",
   "execution_count": 9,
   "metadata": {},
   "outputs": [
    {
     "data": {
      "text/plain": [
       "<sklearn.metrics._plot.confusion_matrix.ConfusionMatrixDisplay at 0x166ddc560>"
      ]
     },
     "execution_count": 9,
     "metadata": {},
     "output_type": "execute_result"
    },
    {
     "data": {
      "image/png": "[encoded data removed]",
      "text/plain": [
       "<Figure size 640x480 with 2 Axes>"
      ]
     },
     "metadata": {},
     "output_type": "display_data"
    }
   ],
   "source": [
    "cm = confusion_matrix(y_test, y_pred_log)\n",
    "disp = ConfusionMatrixDisplay(confusion_matrix=cm)\n",
    "disp.plot(cmap=\"Blues\")"
   ]
  },
  {
   "cell_type": "code",
   "execution_count": 10,
   "metadata": {},
   "outputs": [
    {
     "name": "stdout",
     "output_type": "stream",
     "text": [
      "ROC AUC: 0.7473865075058781\n"
     ]
    }
   ],
   "source": [
    "print(\"ROC AUC:\", roc_auc_score(y_test, y_prob_log))"
   ]
  },
  {
   "cell_type": "markdown",
   "metadata": {},
   "source": [
    "##### Since ROC AUC is between 0.70–0.75, the model is reasonably good but not strong enough for precise targeting.\n",
    "This indicates that while it distinguishes churners from non-churners, it may still make false positives/negatives."
   ]
  },
  {
   "cell_type": "markdown",
   "metadata": {
    "nbgrader": {
     "grade": false,
     "grade_id": "cell-9b1011f4acfaeec3",
     "locked": true,
     "schema_version": 3,
     "solution": false,
     "task": false
    }
   },
   "source": [
    "## 3. Fit a `Decision Tree` Model\n",
    "\n",
    "Now that we have our simple regression model implemented and we saw ROC AUC indicate a fair preditive model, but we want to be reliable. \n",
    "\n",
    "For that we'll fit a Decision tree classifier"
   ]
  },
  {
   "cell_type": "code",
   "execution_count": 11,
   "metadata": {
    "nbgrader": {
     "grade": false,
     "grade_id": "cell-45802a6f1fb065c0",
     "locked": false,
     "schema_version": 3,
     "solution": true,
     "task": false
    }
   },
   "outputs": [
    {
     "name": "stdout",
     "output_type": "stream",
     "text": [
      "Decision Tree Results\n",
      "              precision    recall  f1-score   support\n",
      "\n",
      "           0       0.94      0.95      0.95       570\n",
      "           1       0.69      0.67      0.68        97\n",
      "\n",
      "    accuracy                           0.91       667\n",
      "   macro avg       0.82      0.81      0.81       667\n",
      "weighted avg       0.91      0.91      0.91       667\n",
      "\n"
     ]
    }
   ],
   "source": [
    "tree = DecisionTreeClassifier(random_state=42, class_weight=\"balanced\")\n",
    "tree.fit(X_train, y_train)\n",
    "\n",
    "y_pred_tree = tree.predict(X_test)\n",
    "\n",
    "print(\"Decision Tree Results\")\n",
    "print(classification_report(y_test, y_pred_tree))"
   ]
  },
  {
   "cell_type": "markdown",
   "metadata": {},
   "source": [
    "#### We have now an accuracy of 0.91 which is pretty close to 1\n",
    "This is better compared to the Logistic regression model. \n",
    "But what if we still improved that model ?"
   ]
  },
  {
   "cell_type": "markdown",
   "metadata": {
    "nbgrader": {
     "grade": false,
     "grade_id": "cell-593a8cb979622402",
     "locked": true,
     "schema_version": 3,
     "solution": false,
     "task": false
    }
   },
   "source": [
    "## 4. Improved Model — Hyperparameter Tuning"
   ]
  },
  {
   "cell_type": "code",
   "execution_count": 12,
   "metadata": {
    "nbgrader": {
     "grade": false,
     "grade_id": "cell-2bd372462ff071aa",
     "locked": false,
     "schema_version": 3,
     "solution": true,
     "task": false
    }
   },
   "outputs": [
    {
     "name": "stdout",
     "output_type": "stream",
     "text": [
      "Tuned Decision Tree Parameters: {'max_depth': 10, 'min_samples_leaf': 1, 'min_samples_split': 10}\n",
      "              precision    recall  f1-score   support\n",
      "\n",
      "           0       0.94      0.99      0.96       570\n",
      "           1       0.89      0.65      0.75        97\n",
      "\n",
      "    accuracy                           0.94       667\n",
      "   macro avg       0.92      0.82      0.86       667\n",
      "weighted avg       0.93      0.94      0.93       667\n",
      "\n"
     ]
    }
   ],
   "source": [
    "param_grid = {\n",
    "    'max_depth': [3, 5, 10, None],\n",
    "    'min_samples_split': [2, 10, 20],\n",
    "    'min_samples_leaf': [1, 5, 10]\n",
    "}\n",
    "\n",
    "grid = GridSearchCV(\n",
    "    DecisionTreeClassifier(random_state=42),\n",
    "    param_grid,\n",
    "    cv=5,\n",
    "    scoring='f1',\n",
    "    n_jobs=-1\n",
    ")\n",
    "\n",
    "grid.fit(X_train, y_train)\n",
    "\n",
    "best_tree = grid.best_estimator_\n",
    "y_pred_best = best_tree.predict(X_test)\n",
    "\n",
    "print(\"Tuned Decision Tree Parameters:\", grid.best_params_)\n",
    "print(classification_report(y_test, y_pred_best))"
   ]
  },
  {
   "cell_type": "markdown",
   "metadata": {},
   "source": [
    "##### Now we're even closer to 1 with an accuracy of 0.94.\n",
    "Now let's compare the model since accuracy itself cannot determine which model is best-suited depending on what features matter to our business."
   ]
  },
  {
   "cell_type": "markdown",
   "metadata": {
    "nbgrader": {
     "grade": false,
     "grade_id": "cell-eb5aa46c99fc351c",
     "locked": true,
     "schema_version": 3,
     "solution": false,
     "task": false
    }
   },
   "source": [
    "## 5. Model Comparison"
   ]
  },
  {
   "cell_type": "code",
   "execution_count": 13,
   "metadata": {},
   "outputs": [
    {
     "name": "stdout",
     "output_type": "stream",
     "text": [
      "                 Model  Accuracy   ROC AUC\n",
      "0  Logistic Regression  0.701649  0.747387\n",
      "1        Decision Tree  0.908546  0.809613\n",
      "2  Tuned Decision Tree  0.937031  0.794041\n"
     ]
    }
   ],
   "source": [
    "results = pd.DataFrame({\n",
    "    \"Model\": [\"Logistic Regression\", \"Decision Tree\", \"Tuned Decision Tree\"],\n",
    "    \"Accuracy\": [\n",
    "        accuracy_score(y_test, y_pred_log),\n",
    "        accuracy_score(y_test, y_pred_tree),\n",
    "        accuracy_score(y_test, y_pred_best)\n",
    "    ],\n",
    "    \"ROC AUC\": [\n",
    "        roc_auc_score(y_test, y_prob_log),\n",
    "        roc_auc_score(y_test, tree.predict_proba(X_test)[:,1]),\n",
    "        roc_auc_score(y_test, best_tree.predict_proba(X_test)[:,1])\n",
    "    ]\n",
    "})\n",
    "\n",
    "print(results)"
   ]
  },
  {
   "cell_type": "code",
   "execution_count": 14,
   "metadata": {},
   "outputs": [
    {
     "data": {
      "image/png": "[encoded data removed]",
      "text/plain": [
       "<Figure size 640x480 with 1 Axes>"
      ]
     },
     "metadata": {},
     "output_type": "display_data"
    }
   ],
   "source": [
    "auc_scores = {\n",
    "    \"Logistic Regression\": roc_auc_score(y_test, y_prob_log),\n",
    "    \"Decision Tree\": roc_auc_score(y_test, tree.predict_proba(X_test)[:,1]),\n",
    "    \"Tuned Decision Tree\": roc_auc_score(y_test, best_tree.predict_proba(X_test)[:,1])\n",
    "}\n",
    "\n",
    "plt.bar(auc_scores.keys(), auc_scores.values(), color=[\"skyblue\", \"lightgreen\",\"blue\"])\n",
    "plt.ylabel(\"ROC AUC\")\n",
    "plt.title(\"Model Performance Comparison\")\n",
    "plt.show()"
   ]
  },
  {
   "cell_type": "markdown",
   "metadata": {},
   "source": [
    "#### Observation\n",
    "Though decision tree accuracy is higher than logistic regression, which means complex patterns are important in churn prediction, but ROC AUC difference is not too much and Logistic regression seems to be stable.\n",
    "\n",
    "The real difference is in the Tuned one, since AUC is **0.80** which means we have a more balanced bias/variance."
   ]
  },
  {
   "cell_type": "markdown",
   "metadata": {},
   "source": [
    "## 6. Feature importance"
   ]
  },
  {
   "cell_type": "code",
   "execution_count": 15,
   "metadata": {},
   "outputs": [
    {
     "name": "stdout",
     "output_type": "stream",
     "text": [
      "                     feature  importance\n",
      "3          total day minutes    0.256431\n",
      "15    customer service calls    0.138986\n",
      "14         total intl charge    0.098046\n",
      "6          total eve minutes    0.093712\n",
      "3349     voice mail plan_yes    0.082091\n",
      "3348  international plan_yes    0.081776\n",
      "13          total intl calls    0.069651\n",
      "8           total eve charge    0.033640\n",
      "11        total night charge    0.026976\n",
      "5           total day charge    0.017616\n"
     ]
    },
    {
     "data": {
      "image/png": "[encoded data removed]",
      "text/plain": [
       "<Figure size 640x480 with 1 Axes>"
      ]
     },
     "metadata": {},
     "output_type": "display_data"
    }
   ],
   "source": [
    "importances = pd.DataFrame({\n",
    "    'feature': X_train.columns,\n",
    "    'importance': best_tree.feature_importances_\n",
    "}).sort_values(by='importance', ascending=False)\n",
    "\n",
    "print(importances.head(10))\n",
    "\n",
    "sns.barplot(data=importances.head(10), x=\"importance\", y=\"feature\")\n",
    "plt.title(\"Top 10 Features Driving Churn\")\n",
    "plt.show()"
   ]
  },
  {
   "cell_type": "markdown",
   "metadata": {},
   "source": [
    "#### Business Recommendations\n",
    "\n",
    "After training and analysis we come out with some insights that could help predict and potentially reduce churn in the company business.\n",
    "\n",
    "1. Best Model Recommendation would be Tuned Decision tree since it has the highest ROC AUC score compared to Logistic Regression.\n",
    "2. Customers who spend more time per day tend to churn the most, that may due to the service charging fees. Therefore I would recommend to propose affordable service bundle.\n",
    "3. Another factor which is related to churn is customer service calls. Either the customer is not satify after calling, or he cannot find people to take his case in consideration. Then I would recommend to improve customer service experience.\n"
   ]
  }
 ],
 "metadata": {
  "celltoolbar": "Create Assignment",
  "kernelspec": {
   "display_name": "base",
   "language": "python",
   "name": "python3"
  },
  "language_info": {
   "codemirror_mode": {
    "name": "ipython",
    "version": 3
   },
   "file_extension": ".py",
   "mimetype": "text/x-python",
   "name": "python",
   "nbconvert_exporter": "python",
   "pygments_lexer": "ipython3",
   "version": "3.12.7"
  }
 },
 "nbformat": 4,
 "nbformat_minor": 4
}
